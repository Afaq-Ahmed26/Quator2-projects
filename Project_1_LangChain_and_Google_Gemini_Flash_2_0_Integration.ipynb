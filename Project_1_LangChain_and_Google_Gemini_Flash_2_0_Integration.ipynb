{
  "nbformat": 4,
  "nbformat_minor": 0,
  "metadata": {
    "colab": {
      "provenance": [],
      "authorship_tag": "ABX9TyNElGFYxkk2pXoxjiclsSSD",
      "include_colab_link": true
    },
    "kernelspec": {
      "name": "python3",
      "display_name": "Python 3"
    },
    "language_info": {
      "name": "python"
    }
  },
  "cells": [
    {
      "cell_type": "markdown",
      "metadata": {
        "id": "view-in-github",
        "colab_type": "text"
      },
      "source": [
        "<a href=\"https://colab.research.google.com/github/Afaq-Ahmed26/Quator2-projects/blob/main/Project_1_LangChain_and_Google_Gemini_Flash_2_0_Integration.ipynb\" target=\"_parent\"><img src=\"https://colab.research.google.com/assets/colab-badge.svg\" alt=\"Open In Colab\"/></a>"
      ]
    },
    {
      "cell_type": "code",
      "execution_count": 3,
      "metadata": {
        "id": "fFs7Fi40_PGz"
      },
      "outputs": [],
      "source": [
        "from google.colab import userdata\n",
        "import os\n",
        "GEMINI_API_KEY = userdata.get('GOOGLE_API_KEY')\n",
        "os.environ['GEMINI_API_KEY'] = GEMINI_API_KEY"
      ]
    },
    {
      "cell_type": "code",
      "source": [
        "!pip install --upgrade --quiet langchain_google_genai"
      ],
      "metadata": {
        "colab": {
          "base_uri": "https://localhost:8080/"
        },
        "id": "YmelnZg2_kKT",
        "outputId": "c5178ddf-94c9-4197-ceef-0f262f6300ff"
      },
      "execution_count": 4,
      "outputs": [
        {
          "output_type": "stream",
          "name": "stdout",
          "text": [
            "\u001b[?25l   \u001b[90m━━━━━━━━━━━━━━━━━━━━━━━━━━━━━━━━━━━━━━━━\u001b[0m \u001b[32m0.0/41.3 kB\u001b[0m \u001b[31m?\u001b[0m eta \u001b[36m-:--:--\u001b[0m\r\u001b[2K   \u001b[90m━━━━━━━━━━━━━━━━━━━━━━━━━━━━━━━━━━━━━━━━\u001b[0m \u001b[32m41.3/41.3 kB\u001b[0m \u001b[31m1.5 MB/s\u001b[0m eta \u001b[36m0:00:00\u001b[0m\n",
            "\u001b[?25h"
          ]
        }
      ]
    },
    {
      "cell_type": "code",
      "source": [
        "from langchain_google_genai import ChatGoogleGenerativeAI\n",
        "from langchain.prompts import PromptTemplate\n",
        "from IPython.display import display, Markdown\n",
        "\n",
        "\n",
        "# Define the first prompt template\n",
        "first_prompt = PromptTemplate(\n",
        "    input_variables=[\"text\"],\n",
        "    template=\"\"\"\n",
        "Provide a detailed explanation of the topic: \"{text}\".\n",
        "\n",
        "The explanation should:\n",
        "- Be clear and easy to understand for a general audience.\n",
        "- Include relevant examples or applications, if possible.\n",
        "- Avoid unnecessary jargon while maintaining accuracy.\n",
        "\"\"\"\n",
        ")\n",
        "\n",
        "# Define the second prompt template\n",
        "second_prompt = PromptTemplate(\n",
        "    input_variables=[\"first_response\"],\n",
        "    template=\"\"\"\n",
        "Based on the following response: \"{first_response}\", create a detailed markdown explanation.\n",
        "\n",
        "The markdown explanation should include:\n",
        "# Introduction\n",
        "A brief overview of the topic.\n",
        "\n",
        "## Key Concepts\n",
        "Main ideas or points related to the topic.\n",
        "\n",
        "## In-depth Analysis\n",
        "A deeper exploration of critical subtopics or concepts.\n",
        "\n",
        "## Examples or Applications\n",
        "Relevant real-world examples, applications, or scenarios.\n",
        "\n",
        "## Conclusion\n",
        "A summary that reinforces the key takeaways.\n",
        "\"\"\"\n",
        ")\n",
        "\n",
        "# Define the third prompt template\n",
        "third_prompt = PromptTemplate(\n",
        "    input_variables=[\"second_response\"],\n",
        "    template=\"\"\"\n",
        "Convert the following detailed explanation into a well-structured image generation prompt:\n",
        "{second_response}\n",
        "\n",
        "The image generation prompt should:\n",
        "- Be specific, vivid, and descriptive.\n",
        "- Highlight key visual elements, styles, or themes.\n",
        "- Provide sufficient details to create a realistic or artistic image.\n",
        "- Avoid ambiguity to ensure accurate image generation.\n",
        "\"\"\"\n",
        ")\n",
        "\n",
        "# Configure the ChatGoogleGenerativeAI model\n",
        "llm = ChatGoogleGenerativeAI(\n",
        "    api_key=GEMINI_API_KEY,\n",
        "    model=\"gemini-2.0-flash-exp\",\n",
        "    temperature=0.6\n",
        ")\n",
        "\n",
        "llm2 = ChatGoogleGenerativeAI(\n",
        "    api_key=GEMINI_API_KEY,\n",
        "    model=\"gemini-2.0-flash-exp\",\n",
        "    temperature=0.1,\n",
        "    max_output_tokens=1000\n",
        ")\n",
        "\n",
        "llm3 = ChatGoogleGenerativeAI(\n",
        "    api_key=GEMINI_API_KEY,\n",
        "    model=\"gemini-2.0-flash-exp\",\n",
        "    max_output_tokens=300,\n",
        "    temperature=0.5\n",
        ")\n",
        "\n",
        "# Create chains for the prompts\n",
        "first_chain = first_prompt | llm\n",
        "second_chain = second_prompt | llm2\n",
        "third_chain = third_prompt | llm3\n",
        "\n",
        "# Get the first response\n",
        "text = \"Generative AI\"\n",
        "first_response = first_chain.invoke({\"text\": text})\n",
        "print(\"\\n\\n\\nFirst chain:\\n\\n\")\n",
        "display(Markdown(first_response.content))\n",
        "\n",
        "# Get the second response\n",
        "second_response = second_chain.invoke({\"first_response\": first_response.content})\n",
        "print(\"\\n\\n\\nSecond chain:\\n\\n\")\n",
        "display(Markdown(second_response.content))\n",
        "\n",
        "\n",
        "# Get the third response\n",
        "third_response = third_chain.invoke({\"second_response\": second_response.content})\n",
        "print(\"\\n\\n\\nThird chain:\\n\\n\")\n",
        "display(Markdown( third_response.content))\n",
        "\n"
      ],
      "metadata": {
        "colab": {
          "base_uri": "https://localhost:8080/",
          "height": 1000
        },
        "id": "N4UzEu50_m7A",
        "outputId": "7d2b36b8-25ec-40b3-ccfd-1b540fbd7188"
      },
      "execution_count": 5,
      "outputs": [
        {
          "output_type": "stream",
          "name": "stdout",
          "text": [
            "\n",
            "\n",
            "\n",
            "First chain:\n",
            "\n",
            "\n"
          ]
        },
        {
          "output_type": "display_data",
          "data": {
            "text/plain": [
              "<IPython.core.display.Markdown object>"
            ],
            "text/markdown": "Okay, let's break down the concept of \"Generative AI\" in a clear and understandable way.\n\n**What is Generative AI?**\n\nAt its core, Generative AI is a type of artificial intelligence that has the ability to **create new content**. Instead of just analyzing or categorizing existing data, it can learn from that data and then generate something entirely new that resembles what it was trained on. Think of it like a student who studies many examples of a particular style and then is able to create their own work in that same style.\n\n**How Does It Work?**\n\nGenerative AI models are typically built using complex algorithms and neural networks. Here's a simplified explanation of the process:\n\n1. **Training:** The AI is fed a massive amount of data related to the type of content it's supposed to generate. This could be images, text, music, code, or even 3D models. For example, an AI designed to generate realistic faces would be trained on millions of photos of human faces.\n2. **Learning Patterns:** During training, the AI identifies the underlying patterns, structures, and relationships within the data. It learns what makes a face look like a face, what makes a song sound like a pop song, or what makes a sentence grammatically correct.\n3. **Generating New Content:** Once trained, the AI can use its learned knowledge to create new content that it has never seen before. It’s essentially trying to mimic the patterns it learned during training. So, it can generate a new face, a new song, a new paragraph of text, or even a new piece of code.\n\n**Key Characteristics of Generative AI:**\n\n* **Creativity:** It goes beyond simply processing information; it creates something novel.\n* **Data-Driven:** The quality of the output heavily relies on the quality and quantity of the training data.\n* **Statistical Nature:** It doesn't truly \"understand\" what it's creating in the same way a human does. It's generating content based on statistical probabilities and learned patterns.\n* **Variety:** Generative AI can produce a wide range of outputs, from realistic images to abstract art.\n\n**Examples and Applications of Generative AI:**\n\nHere are some concrete examples to illustrate how Generative AI is being used:\n\n* **Image Generation:**\n    * **Creating Realistic Faces:** Think of the websites that generate photorealistic portraits of people who don't actually exist. These are often used for creating avatars or avoiding privacy concerns when needing a visual.\n    * **Generating Art:** AI can create unique artworks in various styles, from impressionism to abstract expressionism.\n    * **Image Editing:** AI can be used to enhance photos, remove unwanted objects, or even create entirely new scenes by combining elements from different images.\n* **Text Generation:**\n    * **Writing Articles and Blog Posts:** AI can generate text on a variety of topics, which can be used as a starting point for writers or for content creation.\n    * **Chatbots and Virtual Assistants:** AI can power more realistic and engaging conversations.\n    * **Code Generation:** AI can write basic code in various programming languages, helping developers be more efficient.\n* **Music Generation:**\n    * **Composing New Melodies and Songs:** AI can generate music in different genres and styles.\n    * **Creating Sound Effects:** AI can generate realistic sound effects for movies, video games, and other applications.\n* **Video Generation:**\n    * **Creating Short Animated Clips:** AI can generate short videos based on text prompts or other input.\n    * **Generating Special Effects:** AI can be used to create realistic special effects for movies and TV shows.\n* **Drug Discovery:** AI can generate new molecules with specific properties that can be used for drug development.\n* **Product Design:** AI can generate new product designs, considering factors like functionality and aesthetics.\n\n**Important Considerations:**\n\n* **Bias:** Generative AI models can inherit biases present in their training data. This can lead to outputs that are unfair or discriminatory. For example, an AI trained on images that mostly depict men in leadership roles might generate images of leaders who are predominantly male.\n* **Ethical Concerns:** The ability of AI to generate realistic content raises ethical questions about deepfakes (manipulated videos or images), misinformation, and the potential for misuse.\n* **Copyright and Ownership:** The question of who owns the copyright to AI-generated content is still being debated.\n* **Job Displacement:** Some worry that generative AI could automate certain jobs, leading to displacement in various industries.\n\n**In Conclusion:**\n\nGenerative AI is a powerful and rapidly evolving technology that has the potential to revolutionize many aspects of our lives. While it offers incredible creative possibilities and can automate many tasks, it's crucial to be aware of its potential limitations, ethical considerations, and the need for responsible development and deployment. It's not about replacing human creativity, but rather augmenting it and opening up new possibilities for innovation. As the technology continues to develop, we can expect even more impressive and transformative applications of Generative AI in the future.\n"
          },
          "metadata": {}
        },
        {
          "output_type": "stream",
          "name": "stdout",
          "text": [
            "\n",
            "\n",
            "\n",
            "Second chain:\n",
            "\n",
            "\n"
          ]
        },
        {
          "output_type": "display_data",
          "data": {
            "text/plain": [
              "<IPython.core.display.Markdown object>"
            ],
            "text/markdown": "```markdown\n# Generative AI: A Detailed Explanation\n\n## Introduction\n\nGenerative AI is a rapidly advancing field of artificial intelligence focused on creating new content, rather than simply analyzing or categorizing existing data. This technology learns from vast datasets and then generates novel outputs that resemble the patterns and structures it has been trained on. This capability has opened up a wide range of possibilities across various industries, from art and entertainment to science and engineering. This explanation will delve into the core concepts, mechanisms, applications, and ethical considerations surrounding generative AI.\n\n## Key Concepts\n\n*   **Definition:** Generative AI is a type of artificial intelligence that can create new content, such as images, text, music, code, and 3D models.\n*   **Learning Process:** It learns from large datasets by identifying underlying patterns, structures, and relationships.\n*   **Content Generation:** Once trained, it can generate new content that mimics the learned patterns, creating outputs that it has never seen before.\n*   **Statistical Basis:** The generation process is based on statistical probabilities and learned patterns, not on true \"understanding\" in the human sense.\n*   **Data Dependency:** The quality of the generated content is heavily dependent on the quality and quantity of the training data.\n*   **Creativity:** Generative AI goes beyond simple processing; it creates novel outputs.\n*   **Variety:** It can produce a wide range of outputs, from realistic to abstract.\n\n## In-depth Analysis\n\n### How Generative AI Works\n\n1.  **Training Phase:**\n    *   The AI model is fed a massive amount of data relevant to the type of content it is intended to generate. For example, an image generation model might be trained on millions of images of faces.\n    *   This data is used to teach the model the underlying patterns and structures of the content.\n2.  **Learning Patterns:**\n    *   During training, the AI uses complex algorithms and neural networks to identify the relationships and patterns within the data.\n    *   It learns what makes a face look like a face, a song sound like a pop song, or a sentence grammatically correct.\n3.  **Generation Phase:**\n    *   Once trained, the AI can use its learned knowledge to generate new content.\n    *   It essentially tries to mimic the patterns it learned during training, creating new outputs that are similar to the training data but not identical.\n\n### Key Characteristics\n\n*   **Creativity:** Generative AI can produce novel outputs, going beyond simple data processing.\n*   **Data-Driven:** The quality of the output is directly related to the quality and quantity of the training data.\n*   **Statistical Nature:** It generates content based on statistical probabilities and learned patterns, not on true understanding.\n*   **Variety:** It can produce a wide range of outputs, from realistic to abstract.\n\n### Important Considerations\n\n*   **Bias:** Generative AI models can inherit biases from their training data, leading to unfair or discriminatory outputs.\n*   **Ethical Concerns:** The ability to generate realistic content raises ethical concerns about deepfakes, misinformation, and misuse.\n*   **Copyright and Ownership:** The question of who owns the copyright to AI-generated content is still being debated.\n*   **Job Displacement:** There are concerns that generative AI could automate certain jobs, leading to displacement in various industries.\n\n## Examples or Applications\n\nGenerative AI has a wide range of applications across various fields:\n\n*   **Image Generation:**\n    *   **Realistic Faces:** Creating photorealistic portraits of people who don't exist.\n    *   **Art Generation:** Creating unique artworks in various styles.\n    *   **Image Editing:** Enhancing photos, removing objects, or creating new scenes.\n*   **Text Generation:**\n    *   **Article and Blog Post Writing:** Generating text on various topics.\n    *   **Chatbots and Virtual Assistants:** Powering more realistic and engaging conversations.\n    *   **Code Generation:** Writing basic code in various programming languages.\n*   **Music Generation:**\n    *   **Composing New Melodies and Songs:** Generating music in different genres.\n    *   **Creating Sound Effects:** Generating realistic sound effects for various applications.\n*   **Video Generation:**\n    *   **Creating Short Animated Clips:** Generating short videos based on text prompts.\n    *   **Generating Special Effects:** Creating realistic special effects for movies and TV shows.\n*   **Drug Discovery:** Generating new molecules with specific properties for drug development.\n*   **Product Design:** Generating new product designs, considering functionality and aesthetics.\n\n## Conclusion\n\nGenerative AI is a powerful and rapidly evolving technology with the potential to revolutionize many aspects of our lives. It offers incredible creative possibilities and can automate many tasks. However"
          },
          "metadata": {}
        },
        {
          "output_type": "stream",
          "name": "stdout",
          "text": [
            "\n",
            "\n",
            "\n",
            "Third chain:\n",
            "\n",
            "\n"
          ]
        },
        {
          "output_type": "display_data",
          "data": {
            "text/plain": [
              "<IPython.core.display.Markdown object>"
            ],
            "text/markdown": "Okay, here's a well-structured image generation prompt based on the provided explanation of Generative AI, aiming for a visually compelling and informative result:\n\n**Prompt:**\n\n\"Create a vibrant, futuristic illustration depicting the concept of Generative AI. The central element is a stylized neural network, visualized as a glowing, interconnected web of nodes and lines, pulsing with energy. This network should be positioned in the center of the image, radiating outwards. Emanating from the network, visualize various examples of AI-generated content: a photorealistic portrait of a person with unique features (eyes of different colors, unusual hairstyle), a swirling abstract artwork with vibrant colors and textures, a musical score with notes floating like holographic projections, and a 3D model of a futuristic object (perhaps a sleek, organic-looking device). These generated elements should be arranged around the central network, as if being birthed from it. The overall style should be a blend of high-tech and artistic, with a color palette dominated by blues, purples, and glowing whites, accented with pops of vibrant colors like orange and pink in the generated content. The background should be a dark, subtly textured space, suggesting the vast potential of AI. Include subtle digital glitches or patterns to reinforce the technology aspect. The composition should convey a sense of dynamism and creation, emphasizing the power of generative AI to produce diverse and novel outputs.\"\n\n**Breakdown of why this prompt works:**\n\n*   **Specific Subject:** It"
          },
          "metadata": {}
        }
      ]
    }
  ]
}